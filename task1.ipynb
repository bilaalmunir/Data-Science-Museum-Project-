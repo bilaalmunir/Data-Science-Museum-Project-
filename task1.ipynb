{
 "cells": [
  {
   "cell_type": "code",
   "execution_count": 29,
   "metadata": {},
   "outputs": [
    {
     "name": "stdout",
     "output_type": "stream",
     "text": [
      "total number of unique names :  1042\n",
      "name\n",
      "Richardoestesia      151\n",
      "Saurornitholestes    136\n",
      "Triceratops          125\n",
      "Iguanodon            111\n",
      "Troodon              111\n",
      "                    ... \n",
      "Baotianmansaurus       1\n",
      "Fusuisaurus            1\n",
      "Afrovenator            1\n",
      "Raptorex               1\n",
      "Luluichnus             1\n",
      "Name: count, Length: 1042, dtype: int64\n"
     ]
    }
   ],
   "source": [
    "import pandas as pd\n",
    "dinosaurs = pd.read_csv('dinosaurs.csv')\n",
    "\n",
    "# print(dinosaurs)\n",
    "\n",
    "# print(dinosaurs.columns) #gives the name of columns\n",
    "\n",
    "names = dinosaurs[\"name\"] #took the column named 'name'\n",
    "\n",
    "# #print(names)\n",
    "\n",
    "uniqueNames = dinosaurs[\"name\"].unique().size #took unique values in the column and got its length\n",
    "print(\"total number of unique names : \",uniqueNames)\n",
    "\n",
    "# print(\"there are total : \" , uniqueNames.shape ,\" number of unique names \") #.shape returns total numbers of rows in a column\n",
    "\n",
    "namesOccurred = dinosaurs[\"name\"].value_counts()\n",
    "print(namesOccurred)"
   ]
  },
  {
   "cell_type": "code",
   "execution_count": null,
   "metadata": {},
   "outputs": [],
   "source": []
  }
 ],
 "metadata": {
  "kernelspec": {
   "display_name": "Python 3",
   "language": "python",
   "name": "python3"
  },
  "language_info": {
   "codemirror_mode": {
    "name": "ipython",
    "version": 3
   },
   "file_extension": ".py",
   "mimetype": "text/x-python",
   "name": "python",
   "nbconvert_exporter": "python",
   "pygments_lexer": "ipython3",
   "version": "3.12.2"
  }
 },
 "nbformat": 4,
 "nbformat_minor": 2
}
